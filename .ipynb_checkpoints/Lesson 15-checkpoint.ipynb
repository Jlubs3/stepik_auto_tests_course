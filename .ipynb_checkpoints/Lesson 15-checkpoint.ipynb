{
 "cells": [
  {
   "cell_type": "markdown",
   "id": "a2f1cc28-63e9-41d5-b1f8-717eeb531134",
   "metadata": {},
   "source": [
    "Скрипты селениум  "
   ]
  },
  {
   "cell_type": "code",
   "execution_count": 2,
   "id": "0b811ca1-0bf2-451a-a158-a2882d0b893a",
   "metadata": {
    "tags": []
   },
   "outputs": [
    {
     "name": "stderr",
     "output_type": "stream",
     "text": [
      "The chromedriver version (126.0.6478.126) detected in PATH at C:\\chromedriver\\chromedriver.exe might not be compatible with the detected chrome version (127.0.6533.120); currently, chromedriver 127.0.6533.119 is recommended for chrome 127.*, so it is advised to delete the driver in PATH and retry\n"
     ]
    }
   ],
   "source": [
    "from selenium import webdriver\n",
    "from selenium.webdriver.common.by import By\n",
    "import time\n",
    "\n",
    "browser = webdriver.Chrome()\n",
    "browser.get(\"http://suninjuly.github.io/wait1.html\")\n",
    "\n",
    "time.sleep(1)\n",
    "button = browser.find_element(By.ID, \"verify\")\n",
    "button.click()\n",
    "message = browser.find_element(By.ID, \"verify_message\")\n",
    "\n",
    "assert \"successful\" in message.text"
   ]
  },
  {
   "cell_type": "code",
   "execution_count": 3,
   "id": "d16445cc-125e-412e-96c1-397c1cb0d479",
   "metadata": {
    "tags": []
   },
   "outputs": [
    {
     "name": "stderr",
     "output_type": "stream",
     "text": [
      "The chromedriver version (126.0.6478.126) detected in PATH at C:\\chromedriver\\chromedriver.exe might not be compatible with the detected chrome version (127.0.6533.120); currently, chromedriver 127.0.6533.119 is recommended for chrome 127.*, so it is advised to delete the driver in PATH and retry\n"
     ]
    }
   ],
   "source": [
    "from selenium import webdriver\n",
    "from selenium.webdriver.common.by import By\n",
    "\n",
    "browser = webdriver.Chrome()\n",
    "# говорим WebDriver искать каждый элемент в течение 5 секунд\n",
    "browser.implicitly_wait(5)\n",
    "\n",
    "browser.get(\"http://suninjuly.github.io/wait1.html\")\n",
    "\n",
    "button = browser.find_element(By.ID, \"verify\")\n",
    "button.click()\n",
    "message = browser.find_element(By.ID, \"verify_message\")\n",
    "\n",
    "assert \"successful\" in message.text"
   ]
  },
  {
   "cell_type": "code",
   "execution_count": null,
   "id": "289e050f-6368-4a51-ae13-3f96c33ace26",
   "metadata": {
    "tags": []
   },
   "outputs": [],
   "source": [
    "from selenium import webdriver\n",
    "from selenium.webdriver.common.by import By\n",
    "\n",
    "browser = webdriver.Chrome()\n",
    "# говорим WebDriver искать каждый элемент в течение 5 секунд\n",
    "browser.implicitly_wait(5)\n",
    "\n",
    "browser.get(\"http://suninjuly.github.io/cats.html\")\n",
    "\n",
    "button = browser.find_element(By.ID, \"button\")\n",
    "button.click()\n"
   ]
  },
  {
   "cell_type": "code",
   "execution_count": 7,
   "id": "70815dd1-084f-46a5-852c-71368c62a11b",
   "metadata": {
    "tags": []
   },
   "outputs": [
    {
     "name": "stderr",
     "output_type": "stream",
     "text": [
      "The chromedriver version (126.0.6478.126) detected in PATH at C:\\chromedriver\\chromedriver.exe might not be compatible with the detected chrome version (127.0.6533.120); currently, chromedriver 127.0.6533.119 is recommended for chrome 127.*, so it is advised to delete the driver in PATH and retry\n"
     ]
    }
   ],
   "source": [
    "from selenium import webdriver\n",
    "from selenium.webdriver.common.by import By\n",
    "from selenium.webdriver.support.ui import WebDriverWait\n",
    "from selenium.webdriver.support import expected_conditions as EC\n",
    "\n",
    "browser = webdriver.Chrome()\n",
    "# говорим WebDriver ждать все элементы в течение 5 секунд\n",
    "browser.implicitly_wait(5)\n",
    "\n",
    "browser.get(\"http://suninjuly.github.io/wait2.html\")\n",
    "\n",
    "# говорим Selenium проверять в течение 5 секунд, пока кнопка не станет кликабельной\n",
    "button = WebDriverWait(browser, 5).until(\n",
    "        EC.element_to_be_clickable((By.ID, \"verify\"))\n",
    "    )\n",
    "button.click()\n",
    "message = browser.find_element(By.ID, \"verify_message\")\n",
    "\n",
    "assert \"successful\" in message.text"
   ]
  },
  {
   "cell_type": "code",
   "execution_count": 33,
   "id": "f003010a-af01-402c-903f-01c7e783c730",
   "metadata": {
    "tags": []
   },
   "outputs": [
    {
     "name": "stderr",
     "output_type": "stream",
     "text": [
      "The chromedriver version (126.0.6478.126) detected in PATH at C:\\chromedriver\\chromedriver.exe might not be compatible with the detected chrome version (127.0.6533.120); currently, chromedriver 127.0.6533.119 is recommended for chrome 127.*, so it is advised to delete the driver in PATH and retry\n"
     ]
    }
   ],
   "source": [
    "from selenium import webdriver\n",
    "from selenium.webdriver.common.by import By\n",
    "from selenium.webdriver.support.ui import WebDriverWait\n",
    "from selenium.webdriver.support import expected_conditions as EC\n",
    "import math\n",
    "\n",
    "# Функция для вычисления значения по формуле\n",
    "def calc(x):\n",
    "    return str(math.log(abs(12 * math.sin(int(x)))))\n",
    "\n",
    "try:\n",
    "    browser = webdriver.Chrome()\n",
    "    browser.get(\"http://suninjuly.github.io/explicit_wait2.html\")\n",
    "    \n",
    "   # Ожидаем, пока цена не уменьшится до $100\n",
    "    price = WebDriverWait(browser, 10).until(\n",
    "        EC.text_to_be_present_in_element((By.ID, \"price\"), \"$100\")\n",
    "    )\n",
    "    \n",
    "    # Нажимаем на кнопку \"Book\"\n",
    "    book_button = browser.find_element(By.ID, \"book\")\n",
    "    book_button.click()\n",
    "    \n",
    "    # Скроллим страницу вниз\n",
    "    browser.execute_script(\"window.scrollBy(0, 200);\")\n",
    "    \n",
    "    # Находим значение для переменной x\n",
    "    x_element = browser.find_element(By.ID, \"input_value\")\n",
    "    x = x_element.text\n",
    "    y = calc(x)\n",
    "    \n",
    "    # Вводим ответ в текстовое поле\n",
    "    answer_input = browser.find_element(By.ID, \"answer\")\n",
    "    answer_input.send_keys(y)\n",
    "    \n",
    "    # Отправляем решение\n",
    "    submit_button = browser.find_element(By.ID, \"solve\")\n",
    "    submit_button.click()\n",
    "    \n",
    "    \n",
    "finally:\n",
    "    # Ждем некоторое время, чтобы увидеть результат\n",
    "    time.sleep(10)\n",
    "    # Закрываем браузер\n",
    "    browser.quit()"
   ]
  },
  {
   "cell_type": "code",
   "execution_count": null,
   "id": "d12ab3de-45eb-44b8-9f61-c0bb55d6371f",
   "metadata": {},
   "outputs": [],
   "source": []
  }
 ],
 "metadata": {
  "kernelspec": {
   "display_name": "Python 3 (ipykernel)",
   "language": "python",
   "name": "python3"
  },
  "language_info": {
   "codemirror_mode": {
    "name": "ipython",
    "version": 3
   },
   "file_extension": ".py",
   "mimetype": "text/x-python",
   "name": "python",
   "nbconvert_exporter": "python",
   "pygments_lexer": "ipython3",
   "version": "3.8.16"
  }
 },
 "nbformat": 4,
 "nbformat_minor": 5
}
