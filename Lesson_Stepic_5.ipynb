{
 "cells": [
  {
   "cell_type": "code",
   "execution_count": 6,
   "id": "443c5306-40f3-4acd-9fdd-584876ee6000",
   "metadata": {
    "tags": []
   },
   "outputs": [
    {
     "name": "stderr",
     "output_type": "stream",
     "text": [
      "The chromedriver version (126.0.6478.126) detected in PATH at C:\\chromedriver\\chromedriver.exe might not be compatible with the detected chrome version (127.0.6533.119); currently, chromedriver 127.0.6533.119 is recommended for chrome 127.*, so it is advised to delete the driver in PATH and retry\n"
     ]
    }
   ],
   "source": [
    "from selenium import webdriver\n",
    "from selenium.webdriver.common.by import By\n",
    "import time \n",
    "\n",
    "link = \"http://suninjuly.github.io/get_attribute.html\"\n",
    "\n",
    "    \n",
    "import math\n",
    "\n",
    "def calc(x):\n",
    "    return str(math.log(abs(12*math.sin(int(x)))))\n",
    "try:\n",
    "    browser = webdriver.Chrome()\n",
    "    browser.get(link)\n",
    "    \n",
    "   # Находим элемент с картинкой-сундуком\n",
    "    chest_img = browser.find_element(\"id\", \"treasure\")\n",
    "\n",
    "    # Получаем значение атрибута valuex\n",
    "    x_value = chest_img.get_attribute(\"valuex\")\n",
    "    x = x_value\n",
    "    y = calc(x)\n",
    "    \n",
    "     # Находим текстовое поле и вводим ответ\n",
    "    input_field = browser.find_element(By.ID, \"answer\")\n",
    "    input_field.send_keys(y)\n",
    "\n",
    "    # Отмечаем чекбокс \"I'm the robot\"\n",
    "    checkbox = browser.find_element(By.ID, \"robotCheckbox\")\n",
    "    checkbox.click()\n",
    "\n",
    "    # Выбираем радиокнопку \"Robots rule!\"\n",
    "    radiobutton = browser.find_element(By.ID, \"robotsRule\")\n",
    "    radiobutton.click()\n",
    "\n",
    "    # Нажимаем кнопку \"Submit\"\n",
    "    submit_button = browser.find_element(By.CSS_SELECTOR, \"button.btn\")\n",
    "    submit_button.click()\n",
    "    \n",
    "finally:\n",
    "    # успеваем скопировать код за 30 секунд\n",
    "    time.sleep(20)\n",
    "    # Закрываем браузер\n",
    "    browser.quit()"
   ]
  },
  {
   "cell_type": "code",
   "execution_count": null,
   "id": "74dc872b-dee6-4259-bf1e-62495efc5022",
   "metadata": {},
   "outputs": [],
   "source": []
  }
 ],
 "metadata": {
  "kernelspec": {
   "display_name": "Python 3 (ipykernel)",
   "language": "python",
   "name": "python3"
  },
  "language_info": {
   "codemirror_mode": {
    "name": "ipython",
    "version": 3
   },
   "file_extension": ".py",
   "mimetype": "text/x-python",
   "name": "python",
   "nbconvert_exporter": "python",
   "pygments_lexer": "ipython3",
   "version": "3.8.16"
  }
 },
 "nbformat": 4,
 "nbformat_minor": 5
}
